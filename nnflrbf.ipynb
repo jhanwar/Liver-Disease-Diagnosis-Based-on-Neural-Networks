{
 "cells": [
  {
   "cell_type": "code",
   "execution_count": 65,
   "metadata": {},
   "outputs": [],
   "source": [
    "import tensorflow as tf"
   ]
  },
  {
   "cell_type": "code",
   "execution_count": 66,
   "metadata": {},
   "outputs": [],
   "source": [
    "import pandas as pd\n",
    "import seaborn as sns\n",
    "import matplotlib.pyplot as plt\n",
    "import math\n",
    "import numpy as np\n",
    "from tensorflow.python.framework import ops\n",
    "ops.reset_default_graph()\n",
    "%matplotlib inline"
   ]
  },
  {
   "cell_type": "code",
   "execution_count": 67,
   "metadata": {},
   "outputs": [],
   "source": [
    "data = pd.read_csv('Untitled Document 1.csv',names=['l1','l2','l3','l4','l5','l6','l7'])"
   ]
  },
  {
   "cell_type": "code",
   "execution_count": 68,
   "metadata": {},
   "outputs": [],
   "source": [
    "p = np.asarray([1,0])\n",
    "a = np.asarray([0,1])\n",
    "data['l7'] = data['l7'].map({1:p,2:a})"
   ]
  },
  {
   "cell_type": "code",
   "execution_count": 69,
   "metadata": {},
   "outputs": [],
   "source": [
    "data['l1'] = data['l1']/103\n",
    "data['l2'] = data['l2']/138\n",
    "data['l3'] = data['l3']/155\n",
    "data['l4'] = data['l4']/182\n",
    "data['l5'] = data['l5']/297\n",
    "data['l6'] = data['l6']/20\n",
    "\n"
   ]
  },
  {
   "cell_type": "code",
   "execution_count": 70,
   "metadata": {},
   "outputs": [
    {
     "data": {
      "text/html": [
       "<div>\n",
       "<style scoped>\n",
       "    .dataframe tbody tr th:only-of-type {\n",
       "        vertical-align: middle;\n",
       "    }\n",
       "\n",
       "    .dataframe tbody tr th {\n",
       "        vertical-align: top;\n",
       "    }\n",
       "\n",
       "    .dataframe thead th {\n",
       "        text-align: right;\n",
       "    }\n",
       "</style>\n",
       "<table border=\"1\" class=\"dataframe\">\n",
       "  <thead>\n",
       "    <tr style=\"text-align: right;\">\n",
       "      <th></th>\n",
       "      <th>l1</th>\n",
       "      <th>l2</th>\n",
       "      <th>l3</th>\n",
       "      <th>l4</th>\n",
       "      <th>l5</th>\n",
       "      <th>l6</th>\n",
       "      <th>l7</th>\n",
       "    </tr>\n",
       "  </thead>\n",
       "  <tbody>\n",
       "    <tr>\n",
       "      <th>0</th>\n",
       "      <td>0.825243</td>\n",
       "      <td>0.666667</td>\n",
       "      <td>0.290323</td>\n",
       "      <td>0.148352</td>\n",
       "      <td>0.104377</td>\n",
       "      <td>0.0</td>\n",
       "      <td>[1, 0]</td>\n",
       "    </tr>\n",
       "    <tr>\n",
       "      <th>1</th>\n",
       "      <td>0.825243</td>\n",
       "      <td>0.463768</td>\n",
       "      <td>0.380645</td>\n",
       "      <td>0.175824</td>\n",
       "      <td>0.077441</td>\n",
       "      <td>0.0</td>\n",
       "      <td>[0, 1]</td>\n",
       "    </tr>\n",
       "    <tr>\n",
       "      <th>2</th>\n",
       "      <td>0.834951</td>\n",
       "      <td>0.391304</td>\n",
       "      <td>0.212903</td>\n",
       "      <td>0.087912</td>\n",
       "      <td>0.181818</td>\n",
       "      <td>0.0</td>\n",
       "      <td>[0, 1]</td>\n",
       "    </tr>\n",
       "    <tr>\n",
       "      <th>3</th>\n",
       "      <td>0.883495</td>\n",
       "      <td>0.565217</td>\n",
       "      <td>0.219355</td>\n",
       "      <td>0.131868</td>\n",
       "      <td>0.121212</td>\n",
       "      <td>0.0</td>\n",
       "      <td>[0, 1]</td>\n",
       "    </tr>\n",
       "    <tr>\n",
       "      <th>4</th>\n",
       "      <td>0.844660</td>\n",
       "      <td>0.507246</td>\n",
       "      <td>0.077419</td>\n",
       "      <td>0.153846</td>\n",
       "      <td>0.033670</td>\n",
       "      <td>0.0</td>\n",
       "      <td>[0, 1]</td>\n",
       "    </tr>\n",
       "  </tbody>\n",
       "</table>\n",
       "</div>"
      ],
      "text/plain": [
       "         l1        l2        l3        l4        l5   l6      l7\n",
       "0  0.825243  0.666667  0.290323  0.148352  0.104377  0.0  [1, 0]\n",
       "1  0.825243  0.463768  0.380645  0.175824  0.077441  0.0  [0, 1]\n",
       "2  0.834951  0.391304  0.212903  0.087912  0.181818  0.0  [0, 1]\n",
       "3  0.883495  0.565217  0.219355  0.131868  0.121212  0.0  [0, 1]\n",
       "4  0.844660  0.507246  0.077419  0.153846  0.033670  0.0  [0, 1]"
      ]
     },
     "execution_count": 70,
     "metadata": {},
     "output_type": "execute_result"
    }
   ],
   "source": [
    "data[:][:5]"
   ]
  },
  {
   "cell_type": "code",
   "execution_count": 71,
   "metadata": {},
   "outputs": [],
   "source": [
    "from sklearn.model_selection import train_test_split"
   ]
  },
  {
   "cell_type": "code",
   "execution_count": 72,
   "metadata": {},
   "outputs": [],
   "source": [
    "X = data[['l1','l2','l3','l4','l5','l6']]\n",
    "y = data['l7']"
   ]
  },
  {
   "cell_type": "code",
   "execution_count": 73,
   "metadata": {},
   "outputs": [],
   "source": [
    " X_train, X_test, y_train, y_test = train_test_split(X, y, test_size=0.33, random_state=42)"
   ]
  },
  {
   "cell_type": "code",
   "execution_count": 74,
   "metadata": {},
   "outputs": [],
   "source": [
    "n_input = 6\n",
    "n_hidden_1 = 200\n",
    "n_classes = 2\n"
   ]
  },
  {
   "cell_type": "code",
   "execution_count": 75,
   "metadata": {},
   "outputs": [],
   "source": [
    "x=tf.placeholder(tf.float32,shape=[None,6])\n",
    "y_=tf.placeholder(tf.float32,shape=[None, 2])"
   ]
  },
  {
   "cell_type": "code",
   "execution_count": 76,
   "metadata": {},
   "outputs": [],
   "source": [
    "def gaussian_function(input_layer):\n",
    "    initial = math.exp(-2*math.pow(input_layer, 2))\n",
    "    return initial\n",
    "\n",
    "np_gaussian_function = np.vectorize(gaussian_function)\n",
    "\n",
    "def d_gaussian_function(input_layer):\n",
    "    initial = -4 * input_layer * math.exp(-2*math.pow(input_layer, 2))\n",
    "    return initial\n",
    "\n",
    "np_d_gaussian_function = np.vectorize(d_gaussian_function)\n",
    "\n",
    "np_d_gaussian_function_32 = lambda input_layer: np_d_gaussian_function(input_layer).astype(np.float32)\n",
    "\n",
    "def tf_d_gaussian_function(input_layer, name=None):\n",
    "    with ops.name_scope(name, \"d_gaussian_function\", [input_layer]) as name:\n",
    "        y = tf.py_func(np_d_gaussian_function_32, [input_layer],[tf.float32], name=name, stateful=False)\n",
    "    return y[0]\n",
    "\n",
    "def py_func(func, inp, Tout, stateful=True, name=None, grad=None):\n",
    "    rnd_name = 'PyFunGrad' + str(np.random.randint(0, 1E+8))\n",
    "\n",
    "    tf.RegisterGradient(rnd_name)(grad)\n",
    "    g = tf.get_default_graph()\n",
    "    with g.gradient_override_map({\"PyFunc\": rnd_name}):\n",
    "        return tf.py_func(func, inp, Tout, stateful=stateful, name=name)\n",
    "\n",
    "def gaussian_function_grad(op, grad):\n",
    "    input_variable = op.inputs[0]\n",
    "    n_gr = tf_d_gaussian_function(input_variable)\n",
    "    return grad * n_gr\n",
    "\n",
    "np_gaussian_function_32 = lambda input_layer: np_gaussian_function(input_layer).astype(np.float32)\n",
    "\n",
    "def tf_gaussian_function(input_layer, name=None):\n",
    "    with ops.name_scope(name, \"gaussian_function\", [input_layer]) as name:\n",
    "        y = py_func(np_gaussian_function_32, [input_layer], [tf.float32], name=name, grad=gaussian_function_grad)\n",
    "    return y[0]\n",
    "# end of defining activation function\n"
   ]
  },
  {
   "cell_type": "code",
   "execution_count": 77,
   "metadata": {},
   "outputs": [],
   "source": [
    "def rbf_network(input_layer, weights):\n",
    "    layer1 = tf.matmul(tf_gaussian_function(input_layer), weights['h1'])\n",
    "    output = tf.matmul(tf_gaussian_function(layer1), weights['output'])\n",
    "    return output\n",
    "\n",
    "weights = {\n",
    "    'h1': tf.Variable(tf.random_normal([n_input, n_hidden_1], stddev=0.1)),\n",
    "    \n",
    "    'output': tf.Variable(tf.random_normal([n_hidden_1, n_classes], stddev=0.1))\n",
    "}"
   ]
  },
  {
   "cell_type": "code",
   "execution_count": 78,
   "metadata": {},
   "outputs": [],
   "source": [
    "pred = rbf_network(x, weights)"
   ]
  },
  {
   "cell_type": "code",
   "execution_count": 79,
   "metadata": {},
   "outputs": [],
   "source": [
    "loss = tf.reduce_sum( tf.square( y_ - pred ) )"
   ]
  },
  {
   "cell_type": "code",
   "execution_count": 98,
   "metadata": {},
   "outputs": [],
   "source": [
    "train_step = tf.train.AdamOptimizer(0.001).minimize(loss)\n",
    "correct_prediction = tf.equal(tf.argmax(pred,1), tf.argmax(y_,1))\n",
    "accuracy = tf.reduce_mean(tf.cast(correct_prediction, tf.float32))"
   ]
  },
  {
   "cell_type": "code",
   "execution_count": 103,
   "metadata": {},
   "outputs": [
    {
     "name": "stderr",
     "output_type": "stream",
     "text": [
      "/home/pulkitsharma97/anaconda3/lib/python3.6/site-packages/tensorflow/python/client/session.py:1645: UserWarning: An interactive session is already active. This can cause out-of-memory errors in some cases. You must explicitly call `InteractiveSession.close()` to release resources held by the other session(s).\n",
      "  warnings.warn('An interactive session is already active. This can '\n"
     ]
    }
   ],
   "source": [
    "sess = tf.InteractiveSession()\n",
    "init = tf.initialize_all_variables()\n",
    "sess.run(init)\n",
    "epoch=2000"
   ]
  },
  {
   "cell_type": "code",
   "execution_count": 104,
   "metadata": {},
   "outputs": [
    {
     "name": "stderr",
     "output_type": "stream",
     "text": [
      "/home/pulkitsharma97/anaconda3/lib/python3.6/site-packages/ipykernel_launcher.py:2: FutureWarning: Method .as_matrix will be removed in a future version. Use .values instead.\n",
      "  \n"
     ]
    },
    {
     "name": "stdout",
     "output_type": "stream",
     "text": [
      "163.81178\n",
      "104.78495\n",
      "97.674614\n",
      "92.79536\n"
     ]
    }
   ],
   "source": [
    "for step in range(epoch):\n",
    "   _, c=sess.run([train_step,loss], feed_dict={x: X_train, y_:[t for t in y_train.as_matrix()]})\n",
    "   if step%500==0 :\n",
    "       print(c)"
   ]
  },
  {
   "cell_type": "code",
   "execution_count": 105,
   "metadata": {},
   "outputs": [
    {
     "name": "stdout",
     "output_type": "stream",
     "text": [
      "0.7105263\n"
     ]
    },
    {
     "name": "stderr",
     "output_type": "stream",
     "text": [
      "/home/pulkitsharma97/anaconda3/lib/python3.6/site-packages/ipykernel_launcher.py:1: FutureWarning: Method .as_matrix will be removed in a future version. Use .values instead.\n",
      "  \"\"\"Entry point for launching an IPython kernel.\n"
     ]
    }
   ],
   "source": [
    "print(sess.run(accuracy,feed_dict={x: X_test, y_:[t for t in y_test.as_matrix()]})) "
   ]
  },
  {
   "cell_type": "code",
   "execution_count": null,
   "metadata": {},
   "outputs": [],
   "source": []
  }
 ],
 "metadata": {
  "kernelspec": {
   "display_name": "Python 3",
   "language": "python",
   "name": "python3"
  },
  "language_info": {
   "codemirror_mode": {
    "name": "ipython",
    "version": 3
   },
   "file_extension": ".py",
   "mimetype": "text/x-python",
   "name": "python",
   "nbconvert_exporter": "python",
   "pygments_lexer": "ipython3",
   "version": "3.6.6"
  }
 },
 "nbformat": 4,
 "nbformat_minor": 2
}
